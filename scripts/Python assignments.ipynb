{
 "cells": [
  {
   "cell_type": "markdown",
   "metadata": {},
   "source": [
    "## 1 Write a Python program to implement the Heron's algorithm to find square root of a given whole number. \n",
    "Reference: http://www.quickermaths.com/herons-method-of-finding-roots/\n",
    "\n",
    "i.e., 14 ÷ 2 = 7 or dividend ÷ divisor = quotient\n",
    "When a number (dividend) is completely divided by another number (divisor), then this divisor is called a factor and the dividend is called a multiple of the divisor. \n",
    "Here 2 is the factor of the multiple 14.\n",
    "14 ÷ 1 = 14,\t14 ÷ 14 = 1,\t14÷ 7 = 2\n",
    "So the divisors 1, 14 and 7 are also the complete divisors or factors of the dividend (multiple) 14.\n",
    "Thus, the factor must be a complete divisor of the multiple (dividend).\n"
   ]
  },
  {
   "cell_type": "code",
   "execution_count": 18,
   "metadata": {
    "scrolled": true
   },
   "outputs": [
    {
     "name": "stdout",
     "output_type": "stream",
     "text": [
      "22.36111111111111\n"
     ]
    }
   ],
   "source": [
    "# Solution 1\n",
    "def findSqrt(N, guessFactor):\n",
    "    squareRoot = (N/guessFactor)\n",
    "    average = ((squareRoot+guessFactor)/2)\n",
    "    \n",
    "    squareRoot = (N/average)\n",
    "    \n",
    "    average = ((average+squareRoot)/2)\n",
    "    \n",
    "    return average\n",
    "\n",
    "print(findSqrt(500, 20))"
   ]
  },
  {
   "cell_type": "code",
   "execution_count": 45,
   "metadata": {},
   "outputs": [
    {
     "name": "stdout",
     "output_type": "stream",
     "text": [
      "22.36111111111111\n"
     ]
    }
   ],
   "source": [
    "# Solution 2\n",
    "def findSqrt(N, guessFactor, flag):\n",
    "    squareRoot = (N/guessFactor)\n",
    "    average = ((squareRoot+guessFactor)/2)\n",
    "\n",
    "    if flag == True:\n",
    "        findSqrt(N, average, False)\n",
    "    else:\n",
    "        print(average)\n",
    "\n",
    "findSqrt(500, 20, True)"
   ]
  },
  {
   "cell_type": "code",
   "execution_count": 44,
   "metadata": {},
   "outputs": [
    {
     "name": "stdout",
     "output_type": "stream",
     "text": [
      "22.36067977915804\n"
     ]
    }
   ],
   "source": [
    "# Solution 3\n",
    "def findSqrt(N, guessFactor, mode):\n",
    "    quotient = N/guessFactor\n",
    "    average = (quotient+guessFactor)/2\n",
    "    \n",
    "    for i in range(mode):\n",
    "        quotient = N/average\n",
    "        average = (quotient+average)/2\n",
    "            \n",
    "    return average\n",
    "\n",
    "print(findSqrt(500, 20, 2))"
   ]
  },
  {
   "cell_type": "code",
   "execution_count": 7,
   "metadata": {},
   "outputs": [
    {
     "data": {
      "text/plain": [
       "22.360679774997898"
      ]
     },
     "execution_count": 7,
     "metadata": {},
     "output_type": "execute_result"
    }
   ],
   "source": [
    "import math\n",
    "\n",
    "math.sqrt(500)"
   ]
  },
  {
   "cell_type": "code",
   "execution_count": null,
   "metadata": {
    "collapsed": true
   },
   "outputs": [],
   "source": []
  },
  {
   "cell_type": "markdown",
   "metadata": {},
   "source": [
    "## 2 Design and Implement a shopping bill algorithm. Should support a pre-determined set of items, with pre-set prices for each. Allow the user to select the items in a sequence, and print out the total bill. Allow adding same item multiple times. Allow the shopkeeper to add/modify items to the existing list.\n"
   ]
  },
  {
   "cell_type": "code",
   "execution_count": null,
   "metadata": {
    "collapsed": true
   },
   "outputs": [],
   "source": []
  },
  {
   "cell_type": "markdown",
   "metadata": {},
   "source": [
    "## 3 Design and implement \"Guess the secret number\" game\n",
    "Reference: https://www.theproblemsite.com/games/secret-number-game-design\n",
    "(This is different from the one we designed in the class)"
   ]
  },
  {
   "cell_type": "code",
   "execution_count": null,
   "metadata": {
    "collapsed": true
   },
   "outputs": [],
   "source": []
  },
  {
   "cell_type": "code",
   "execution_count": null,
   "metadata": {
    "collapsed": true
   },
   "outputs": [],
   "source": []
  },
  {
   "cell_type": "markdown",
   "metadata": {},
   "source": [
    "## 4 Design and implement the \"master-mind\" game\n",
    "Reference: http://www.web-games-online.com/mastermind/rules.php"
   ]
  },
  {
   "cell_type": "code",
   "execution_count": null,
   "metadata": {
    "collapsed": true
   },
   "outputs": [],
   "source": []
  },
  {
   "cell_type": "code",
   "execution_count": null,
   "metadata": {
    "collapsed": true
   },
   "outputs": [],
   "source": []
  },
  {
   "cell_type": "markdown",
   "metadata": {},
   "source": [
    "## 5 Solve problems 1-10 from projecteuler.net\n",
    "Reference: https://www.theproblemsite.com/games/secret-number-game-design\n",
    "(This is different from the one we designed in the class)\n",
    "NOTE: For the game problems, make suitable assumptions. All games will use a command-line interface."
   ]
  },
  {
   "cell_type": "code",
   "execution_count": null,
   "metadata": {
    "collapsed": true
   },
   "outputs": [],
   "source": []
  },
  {
   "cell_type": "code",
   "execution_count": null,
   "metadata": {
    "collapsed": true
   },
   "outputs": [],
   "source": []
  }
 ],
 "metadata": {
  "kernelspec": {
   "display_name": "Python 3",
   "language": "python",
   "name": "python3"
  },
  "language_info": {
   "codemirror_mode": {
    "name": "ipython",
    "version": 3
   },
   "file_extension": ".py",
   "mimetype": "text/x-python",
   "name": "python",
   "nbconvert_exporter": "python",
   "pygments_lexer": "ipython3",
   "version": "3.6.1"
  }
 },
 "nbformat": 4,
 "nbformat_minor": 2
}
